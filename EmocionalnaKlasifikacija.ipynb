{
 "cells": [
  {
   "cell_type": "code",
   "execution_count": 1,
   "id": "8e2eed0a-dd1e-4c23-a815-22ab6610487f",
   "metadata": {},
   "outputs": [],
   "source": [
    "import numpy as np\n",
    "import pandas as pd\n",
    "import matplotlib.pyplot as plt\n",
    "import matplotlib.image as mpimg"
   ]
  },
  {
   "cell_type": "code",
   "execution_count": 2,
   "id": "2fc05d3b-416d-46cb-9fbf-b3c1e3aaecc0",
   "metadata": {},
   "outputs": [
    {
     "data": {
      "text/html": [
       "<div>\n",
       "<style scoped>\n",
       "    .dataframe tbody tr th:only-of-type {\n",
       "        vertical-align: middle;\n",
       "    }\n",
       "\n",
       "    .dataframe tbody tr th {\n",
       "        vertical-align: top;\n",
       "    }\n",
       "\n",
       "    .dataframe thead th {\n",
       "        text-align: right;\n",
       "    }\n",
       "</style>\n",
       "<table border=\"1\" class=\"dataframe\">\n",
       "  <thead>\n",
       "    <tr style=\"text-align: right;\">\n",
       "      <th></th>\n",
       "      <th>Unnamed: 0</th>\n",
       "      <th>art_style</th>\n",
       "      <th>painting</th>\n",
       "      <th>emotion</th>\n",
       "      <th>utterance</th>\n",
       "      <th>repetition</th>\n",
       "      <th>path</th>\n",
       "    </tr>\n",
       "  </thead>\n",
       "  <tbody>\n",
       "    <tr>\n",
       "      <th>0</th>\n",
       "      <td>0</td>\n",
       "      <td>Post_Impressionism</td>\n",
       "      <td>vincent-van-gogh_portrait-of-madame-ginoux-l-a...</td>\n",
       "      <td>something else</td>\n",
       "      <td>She seems very happy in the picture, and you w...</td>\n",
       "      <td>10</td>\n",
       "      <td>/kaggle/input/wikiart/Post_Impressionism/vince...</td>\n",
       "    </tr>\n",
       "    <tr>\n",
       "      <th>1</th>\n",
       "      <td>1</td>\n",
       "      <td>Post_Impressionism</td>\n",
       "      <td>vincent-van-gogh_portrait-of-madame-ginoux-l-a...</td>\n",
       "      <td>sadness</td>\n",
       "      <td>This woman has really knotty hands which makes...</td>\n",
       "      <td>10</td>\n",
       "      <td>/kaggle/input/wikiart/Post_Impressionism/vince...</td>\n",
       "    </tr>\n",
       "    <tr>\n",
       "      <th>2</th>\n",
       "      <td>2</td>\n",
       "      <td>Post_Impressionism</td>\n",
       "      <td>vincent-van-gogh_portrait-of-madame-ginoux-l-a...</td>\n",
       "      <td>something else</td>\n",
       "      <td>When looking at this woman, I am filled with c...</td>\n",
       "      <td>10</td>\n",
       "      <td>/kaggle/input/wikiart/Post_Impressionism/vince...</td>\n",
       "    </tr>\n",
       "    <tr>\n",
       "      <th>3</th>\n",
       "      <td>3</td>\n",
       "      <td>Post_Impressionism</td>\n",
       "      <td>vincent-van-gogh_portrait-of-madame-ginoux-l-a...</td>\n",
       "      <td>contentment</td>\n",
       "      <td>A woman looking at ease, peaceful, and satisfi...</td>\n",
       "      <td>10</td>\n",
       "      <td>/kaggle/input/wikiart/Post_Impressionism/vince...</td>\n",
       "    </tr>\n",
       "    <tr>\n",
       "      <th>4</th>\n",
       "      <td>4</td>\n",
       "      <td>Post_Impressionism</td>\n",
       "      <td>vincent-van-gogh_portrait-of-madame-ginoux-l-a...</td>\n",
       "      <td>awe</td>\n",
       "      <td>She looks like a lady from that past that migh...</td>\n",
       "      <td>10</td>\n",
       "      <td>/kaggle/input/wikiart/Post_Impressionism/vince...</td>\n",
       "    </tr>\n",
       "    <tr>\n",
       "      <th>...</th>\n",
       "      <td>...</td>\n",
       "      <td>...</td>\n",
       "      <td>...</td>\n",
       "      <td>...</td>\n",
       "      <td>...</td>\n",
       "      <td>...</td>\n",
       "      <td>...</td>\n",
       "    </tr>\n",
       "    <tr>\n",
       "      <th>450550</th>\n",
       "      <td>454679</td>\n",
       "      <td>Cubism</td>\n",
       "      <td>gino-severini_a-dancer-1</td>\n",
       "      <td>awe</td>\n",
       "      <td>the collection and collage of different colors...</td>\n",
       "      <td>48</td>\n",
       "      <td>/kaggle/input/wikiart/Cubism/gino-severini_a-d...</td>\n",
       "    </tr>\n",
       "    <tr>\n",
       "      <th>450551</th>\n",
       "      <td>454680</td>\n",
       "      <td>Romanticism</td>\n",
       "      <td>ivan-aivazovsky_sea-at-night-1861</td>\n",
       "      <td>awe</td>\n",
       "      <td>The peaceful reflections of the moonlight on t...</td>\n",
       "      <td>8</td>\n",
       "      <td>/kaggle/input/wikiart/Romanticism/ivan-aivazov...</td>\n",
       "    </tr>\n",
       "    <tr>\n",
       "      <th>450552</th>\n",
       "      <td>454681</td>\n",
       "      <td>Romanticism</td>\n",
       "      <td>ivan-aivazovsky_sea-at-night-1861</td>\n",
       "      <td>excitement</td>\n",
       "      <td>I can imagine the sailors resting this peacefu...</td>\n",
       "      <td>8</td>\n",
       "      <td>/kaggle/input/wikiart/Romanticism/ivan-aivazov...</td>\n",
       "    </tr>\n",
       "    <tr>\n",
       "      <th>450553</th>\n",
       "      <td>454682</td>\n",
       "      <td>Romanticism</td>\n",
       "      <td>ivan-aivazovsky_sea-at-night-1861</td>\n",
       "      <td>contentment</td>\n",
       "      <td>The steep mountains and the moonlight provide ...</td>\n",
       "      <td>8</td>\n",
       "      <td>/kaggle/input/wikiart/Romanticism/ivan-aivazov...</td>\n",
       "    </tr>\n",
       "    <tr>\n",
       "      <th>450554</th>\n",
       "      <td>454683</td>\n",
       "      <td>Cubism</td>\n",
       "      <td>joan-miro_not_detected_227963</td>\n",
       "      <td>fear</td>\n",
       "      <td>If you look at the colors individually they ar...</td>\n",
       "      <td>10</td>\n",
       "      <td>/kaggle/input/wikiart/Cubism/joan-miro_not_det...</td>\n",
       "    </tr>\n",
       "  </tbody>\n",
       "</table>\n",
       "<p>450555 rows × 7 columns</p>\n",
       "</div>"
      ],
      "text/plain": [
       "        Unnamed: 0           art_style  \\\n",
       "0                0  Post_Impressionism   \n",
       "1                1  Post_Impressionism   \n",
       "2                2  Post_Impressionism   \n",
       "3                3  Post_Impressionism   \n",
       "4                4  Post_Impressionism   \n",
       "...            ...                 ...   \n",
       "450550      454679              Cubism   \n",
       "450551      454680         Romanticism   \n",
       "450552      454681         Romanticism   \n",
       "450553      454682         Romanticism   \n",
       "450554      454683              Cubism   \n",
       "\n",
       "                                                 painting         emotion  \\\n",
       "0       vincent-van-gogh_portrait-of-madame-ginoux-l-a...  something else   \n",
       "1       vincent-van-gogh_portrait-of-madame-ginoux-l-a...         sadness   \n",
       "2       vincent-van-gogh_portrait-of-madame-ginoux-l-a...  something else   \n",
       "3       vincent-van-gogh_portrait-of-madame-ginoux-l-a...     contentment   \n",
       "4       vincent-van-gogh_portrait-of-madame-ginoux-l-a...             awe   \n",
       "...                                                   ...             ...   \n",
       "450550                           gino-severini_a-dancer-1             awe   \n",
       "450551                  ivan-aivazovsky_sea-at-night-1861             awe   \n",
       "450552                  ivan-aivazovsky_sea-at-night-1861      excitement   \n",
       "450553                  ivan-aivazovsky_sea-at-night-1861     contentment   \n",
       "450554                      joan-miro_not_detected_227963            fear   \n",
       "\n",
       "                                                utterance  repetition  \\\n",
       "0       She seems very happy in the picture, and you w...          10   \n",
       "1       This woman has really knotty hands which makes...          10   \n",
       "2       When looking at this woman, I am filled with c...          10   \n",
       "3       A woman looking at ease, peaceful, and satisfi...          10   \n",
       "4       She looks like a lady from that past that migh...          10   \n",
       "...                                                   ...         ...   \n",
       "450550  the collection and collage of different colors...          48   \n",
       "450551  The peaceful reflections of the moonlight on t...           8   \n",
       "450552  I can imagine the sailors resting this peacefu...           8   \n",
       "450553  The steep mountains and the moonlight provide ...           8   \n",
       "450554  If you look at the colors individually they ar...          10   \n",
       "\n",
       "                                                     path  \n",
       "0       /kaggle/input/wikiart/Post_Impressionism/vince...  \n",
       "1       /kaggle/input/wikiart/Post_Impressionism/vince...  \n",
       "2       /kaggle/input/wikiart/Post_Impressionism/vince...  \n",
       "3       /kaggle/input/wikiart/Post_Impressionism/vince...  \n",
       "4       /kaggle/input/wikiart/Post_Impressionism/vince...  \n",
       "...                                                   ...  \n",
       "450550  /kaggle/input/wikiart/Cubism/gino-severini_a-d...  \n",
       "450551  /kaggle/input/wikiart/Romanticism/ivan-aivazov...  \n",
       "450552  /kaggle/input/wikiart/Romanticism/ivan-aivazov...  \n",
       "450553  /kaggle/input/wikiart/Romanticism/ivan-aivazov...  \n",
       "450554  /kaggle/input/wikiart/Cubism/joan-miro_not_det...  \n",
       "\n",
       "[450555 rows x 7 columns]"
      ]
     },
     "execution_count": 2,
     "metadata": {},
     "output_type": "execute_result"
    }
   ],
   "source": [
    "data = pd.read_csv('kaggle/input/artemis-full/artemis.csv')\n",
    "data"
   ]
  },
  {
   "cell_type": "code",
   "execution_count": 3,
   "id": "34c35c47-f7e4-48b9-9210-a5bf9a087ad5",
   "metadata": {},
   "outputs": [],
   "source": [
    "#ne odgovara mi putanja\n",
    "correct_path_prefix = 'kaggle/input/wikiart/'\n",
    "def update_path(path):\n",
    "    return path.replace('/kaggle/input/wikiart/', correct_path_prefix)\n",
    "\n",
    "data['path'] = data['path'].apply(update_path)"
   ]
  },
  {
   "cell_type": "code",
   "execution_count": 4,
   "id": "8de0c7ee-2daa-4c01-8020-b472564494ba",
   "metadata": {},
   "outputs": [],
   "source": [
    "# Uzimamo prvih par redova iz DataFrame-a\n",
    "sample_paths = data['path'].head(10)\n",
    "#Iteriramo kroz putanje i prikazujemo slike\n",
    "#for path in sample_paths:\n",
    "#    try:\n",
    "#        img = mpimg.imread(path)\n",
    "#        imgplot = plt.imshow(img)\n",
    "#        plt.axis('off')  # Uklanja ose oko slike\n",
    "#        plt.show()\n",
    "#    except FileNotFoundError:\n",
    "#        print(f\"Slika nije pronađena na putanji: {path}\")"
   ]
  },
  {
   "cell_type": "code",
   "execution_count": 5,
   "id": "6bf37b4e-d576-44b2-8106-9defeea2534e",
   "metadata": {},
   "outputs": [],
   "source": [
    "#ISTRAZIVANJE PODATALA"
   ]
  },
  {
   "cell_type": "code",
   "execution_count": 6,
   "id": "88b0bc67-ef4c-4d17-959a-1bc5bb95ea5f",
   "metadata": {},
   "outputs": [
    {
     "name": "stdout",
     "output_type": "stream",
     "text": [
      "<class 'pandas.core.frame.DataFrame'>\n",
      "RangeIndex: 450555 entries, 0 to 450554\n",
      "Data columns (total 7 columns):\n",
      " #   Column      Non-Null Count   Dtype \n",
      "---  ------      --------------   ----- \n",
      " 0   Unnamed: 0  450555 non-null  int64 \n",
      " 1   art_style   450555 non-null  object\n",
      " 2   painting    450555 non-null  object\n",
      " 3   emotion     450555 non-null  object\n",
      " 4   utterance   450555 non-null  object\n",
      " 5   repetition  450555 non-null  int64 \n",
      " 6   path        450555 non-null  object\n",
      "dtypes: int64(2), object(5)\n",
      "memory usage: 24.1+ MB\n"
     ]
    }
   ],
   "source": [
    "data.info()"
   ]
  },
  {
   "cell_type": "code",
   "execution_count": 7,
   "id": "7bdaa59e-127c-4d9d-bcbc-2763f2e85d97",
   "metadata": {},
   "outputs": [
    {
     "data": {
      "text/plain": [
       "emotion\n",
       "contentment       124930\n",
       "awe                72234\n",
       "something else     52612\n",
       "sadness            48617\n",
       "amusement          44913\n",
       "fear               41197\n",
       "excitement         37198\n",
       "disgust            22246\n",
       "anger               6608\n",
       "Name: count, dtype: int64"
      ]
     },
     "execution_count": 7,
     "metadata": {},
     "output_type": "execute_result"
    }
   ],
   "source": [
    "#emocije su najzastupljenije.\n",
    "data['emotion'].value_counts()"
   ]
  },
  {
   "cell_type": "code",
   "execution_count": 8,
   "id": "1c2562a8-f6ee-44cc-9656-1d4e5b835535",
   "metadata": {},
   "outputs": [],
   "source": [
    "# Ovde zakljucujemo značajna neravnoteža u distribuciji emocija, gde su emocije poput Contentment i \n",
    "#Awe mnogo češće zastupljene nego emocije poput Disgust i Anger."
   ]
  },
  {
   "cell_type": "code",
   "execution_count": 9,
   "id": "d9bcb74a-621a-42f2-8ff0-580db3522717",
   "metadata": {
    "scrolled": true
   },
   "outputs": [
    {
     "data": {
      "image/png": "[encoded data removed]",
      "text/plain": [
       "<Figure size 1000x600 with 1 Axes>"
      ]
     },
     "metadata": {},
     "output_type": "display_data"
    }
   ],
   "source": [
    "import matplotlib.pyplot as plt\n",
    "import seaborn as sns\n",
    "\n",
    "plt.figure(figsize=(10,6))\n",
    "sns.countplot(x='emotion', data=data, order=data['emotion'].value_counts().index)\n",
    "plt.title('Distribucija emocija u datasetu')\n",
    "plt.xticks(rotation=45)\n",
    "plt.show()"
   ]
  },
  {
   "cell_type": "code",
   "execution_count": 10,
   "id": "03dbea0e-f628-4665-af87-4a92099fc524",
   "metadata": {},
   "outputs": [],
   "source": []
  },
  {
   "cell_type": "code",
   "execution_count": null,
   "id": "8d456532-c4f8-4965-8c0b-677b6dc22b1f",
   "metadata": {},
   "outputs": [],
   "source": []
  },
  {
   "cell_type": "code",
   "execution_count": null,
   "id": "3608c76d-8983-4bac-8cdd-99528e68df31",
   "metadata": {},
   "outputs": [],
   "source": []
  }
 ],
 "metadata": {
  "kernelspec": {
   "display_name": "Python 3 (ipykernel)",
   "language": "python",
   "name": "python3"
  },
  "language_info": {
   "codemirror_mode": {
    "name": "ipython",
    "version": 3
   },
   "file_extension": ".py",
   "mimetype": "text/x-python",
   "name": "python",
   "nbconvert_exporter": "python",
   "pygments_lexer": "ipython3",
   "version": "3.8.10"
  }
 },
 "nbformat": 4,
 "nbformat_minor": 5
}
