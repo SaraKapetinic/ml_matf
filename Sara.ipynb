{
 "cells": [
  {
   "cell_type": "code",
   "execution_count": 23,
   "id": "7978d271-ea1e-4e45-b923-ab629718bc17",
   "metadata": {},
   "outputs": [],
   "source": [
    "from datasets import load_dataset\n",
    "import torch\n",
    "import torchvision.transforms as transforms\n",
    "import torchvision.models as models\n",
    "import torch.optim as optim\n",
    "import torch.nn as nn\n",
    "from torch.utils.data import DataLoader, Dataset\n",
    "from sklearn.metrics import accuracy_score\n",
    "from PIL import Image\n",
    "import io\n",
    "import base64\n",
    "from matplotlib import pyplot as plt\n",
    "\n"
   ]
  },
  {
   "cell_type": "code",
   "execution_count": 2,
   "id": "ffd8c071-9d9d-490c-be42-ee4b3e62be7f",
   "metadata": {},
   "outputs": [],
   "source": [
    "device = torch.device('cuda' if torch.cuda.is_available() else 'cpu')\n"
   ]
  },
  {
   "cell_type": "code",
   "execution_count": 3,
   "id": "d9e7e2d1-8224-4207-a829-9ff7c3a05e8a",
   "metadata": {},
   "outputs": [
    {
     "data": {
      "application/vnd.jupyter.widget-view+json": {
       "model_id": "5af11eeeffa44b39a18d9a5a32a372b2",
       "version_major": 2,
       "version_minor": 0
      },
      "text/plain": [
       "Resolving data files:   0%|          | 0/72 [00:00<?, ?it/s]"
      ]
     },
     "metadata": {},
     "output_type": "display_data"
    },
    {
     "data": {
      "application/vnd.jupyter.widget-view+json": {
       "model_id": "934e7a5ad78948d9af9d480d48a2ee4e",
       "version_major": 2,
       "version_minor": 0
      },
      "text/plain": [
       "Loading dataset shards:   0%|          | 0/45 [00:00<?, ?it/s]"
      ]
     },
     "metadata": {},
     "output_type": "display_data"
    }
   ],
   "source": [
    "# Učitavanje WikiArt dataset-a\n",
    "dataset = load_dataset('huggan/wikiart')"
   ]
  },
  {
   "cell_type": "code",
   "execution_count": 4,
   "id": "347dca87-8d65-41b1-80a1-81c6e27b214b",
   "metadata": {},
   "outputs": [],
   "source": [
    "train_subset = dataset['train'].select(range(int(0.002 * len(dataset['train']))))\n",
    "#train_subset = dataset['train'][:1000]"
   ]
  },
  {
   "cell_type": "code",
   "execution_count": 5,
   "id": "e1cab6fc-1f35-4d9e-9f62-a8832f2fca7f",
   "metadata": {},
   "outputs": [],
   "source": [
    "#y = train_subset['genre']\n",
    "#data = train_subset.remove_columns('genre')\n",
    "train_subset_df = train_subset.to_pandas()\n",
    "\n",
    "# Split the data into features (X) and labels (y)\n",
    "X = train_subset_df.drop(columns='genre')  # Features\n",
    "y = train_subset_df['genre']  # Labels\n"
   ]
  },
  {
   "cell_type": "code",
   "execution_count": 25,
   "id": "8ddebcb9-409b-46c9-807d-20f4e4a00995",
   "metadata": {},
   "outputs": [
    {
     "name": "stdout",
     "output_type": "stream",
     "text": [
      "Osnovne informacije o dataset-u:\n",
      "<class 'pandas.core.frame.DataFrame'>\n",
      "RangeIndex: 162 entries, 0 to 161\n",
      "Data columns (total 4 columns):\n",
      " #   Column  Non-Null Count  Dtype \n",
      "---  ------  --------------  ----- \n",
      " 0   image   162 non-null    object\n",
      " 1   artist  162 non-null    int64 \n",
      " 2   genre   162 non-null    int64 \n",
      " 3   style   162 non-null    int64 \n",
      "dtypes: int64(3), object(1)\n",
      "memory usage: 5.2+ KB\n",
      "None\n",
      "\n",
      "Prvih nekoliko redova dataset-a:\n",
      "                                               image  artist  genre  style\n",
      "0  {'bytes': b'\\xff\\xd8\\xff\\xe0\\x00\\x10JFIF\\x00\\x...      22      4     21\n",
      "1  {'bytes': b'\\xff\\xd8\\xff\\xe0\\x00\\x10JFIF\\x00\\x...      20      7      4\n",
      "2  {'bytes': b'\\xff\\xd8\\xff\\xe0\\x00\\x10JFIF\\x00\\x...      16      6     20\n",
      "3  {'bytes': b'\\xff\\xd8\\xff\\xe0\\x00\\x10JFIF\\x00\\x...      17      2     12\n",
      "4  {'bytes': b'\\xff\\xd8\\xff\\xe0\\x00\\x10JFIF\\x00\\x...       9     10     23\n",
      "\n",
      "Broj primera po klasi (žanr):\n",
      "genre\n",
      "4     42\n",
      "2     24\n",
      "6     21\n",
      "10    18\n",
      "1     14\n",
      "8     13\n",
      "3     10\n",
      "9      8\n",
      "7      7\n",
      "5      5\n",
      "Name: count, dtype: int64\n"
     ]
    },
    {
     "data": {
      "image/png": "[encoded data removed]",
      "text/plain": [
       "<Figure size 1000x600 with 1 Axes>"
      ]
     },
     "metadata": {},
     "output_type": "display_data"
    },
    {
     "name": "stdout",
     "output_type": "stream",
     "text": [
      "\n",
      "Kolone za širinu i visinu slika nisu dostupne u dataset-u.\n"
     ]
    }
   ],
   "source": [
    "import matplotlib.pyplot as plt\n",
    "import seaborn as sns\n",
    "import pandas as pd\n",
    "\n",
    "# Ispis osnovnih informacija o podacima\n",
    "print(\"Osnovne informacije o dataset-u:\")\n",
    "print(train_subset_df.info())\n",
    "print(\"\\nPrvih nekoliko redova dataset-a:\")\n",
    "print(train_subset_df.head())\n",
    "\n",
    "# Ispis statistika za broj primera po klasi (po 'genre')\n",
    "print(\"\\nBroj primera po klasi (žanr):\")\n",
    "print(train_subset_df['genre'].value_counts())\n",
    "\n",
    "# Plotovanje raspodele klasa\n",
    "plt.figure(figsize=(10, 6))\n",
    "sns.countplot(y='genre', data=train_subset_df, order=train_subset_df['genre'].value_counts().index)\n",
    "plt.title('Raspodela žanrova u dataset-u')\n",
    "plt.xlabel('Broj primera')\n",
    "plt.ylabel('Žanr')\n",
    "plt.show()\n",
    "\n",
    "# Ako slike imaju različite veličine, možemo ispisati i prosečne dimenzije\n",
    "# Pretpostavljamo da je veličina slike dostupna u nekoj koloni (npr. 'width' i 'height')\n",
    "if 'width' in train_subset_df.columns and 'height' in train_subset_df.columns:\n",
    "    print(\"\\nProsečna širina i visina slika:\")\n",
    "    avg_width = train_subset_df['width'].mean()\n",
    "    avg_height = train_subset_df['height'].mean()\n",
    "    print(f\"Prosečna širina: {avg_width:.2f}, Prosečna visina: {avg_height:.2f}\")\n",
    "\n",
    "    # Plotovanje raspodele veličina slika\n",
    "    plt.figure(figsize=(12, 6))\n",
    "    plt.subplot(1, 2, 1)\n",
    "    sns.histplot(train_subset_df['width'], kde=True)\n",
    "    plt.title('Raspodela širine slika')\n",
    "    plt.xlabel('Širina (piksela)')\n",
    "\n",
    "    plt.subplot(1, 2, 2)\n",
    "    sns.histplot(train_subset_df['height'], kde=True)\n",
    "    plt.title('Raspodela visine slika')\n",
    "    plt.xlabel('Visina (piksela)')\n",
    "\n",
    "    plt.tight_layout()\n",
    "    plt.show()\n",
    "else:\n",
    "    print(\"\\nKolone za širinu i visinu slika nisu dostupne u dataset-u.\")\n"
   ]
  },
  {
   "cell_type": "code",
   "execution_count": 6,
   "id": "a04fa583-e5ee-4df6-b6ca-c1518dffdb6d",
   "metadata": {},
   "outputs": [],
   "source": [
    "# Podela na train, validation, i test\n",
    "from sklearn.model_selection import train_test_split\n",
    "#x_train, x_test, y_train, y_test = train_test_split(data, y, test_size=0.22, random_state)\n",
    "# First split: train and temp (temp will be further split into validation and test)\n",
    "X_train, X_test, y_train, y_test = train_test_split(X, y, test_size=0.2, random_state=42, stratify=y)\n",
    "\n",
    "# Second split: validation and test from temp\n",
    "X_test, X_valid, y_test, y_valid = train_test_split(X_test, y_test, test_size=0.5, random_state=42)\n",
    "\n",
    "#train_df, test_df = train_test_split(train_subset.to_pandas(), test_size=0.2, random_state=42)\n",
    "#test_df, valid_df = train_test_split(test_df, test_size=0.5, random_state=42)\n"
   ]
  },
  {
   "cell_type": "code",
   "execution_count": 7,
   "id": "04c0dada-9afa-499c-bed6-d62a0b90696f",
   "metadata": {},
   "outputs": [
    {
     "data": {
      "text/plain": [
       "(129, 3)"
      ]
     },
     "execution_count": 7,
     "metadata": {},
     "output_type": "execute_result"
    }
   ],
   "source": [
    "X_train.shape"
   ]
  },
  {
   "cell_type": "code",
   "execution_count": 8,
   "id": "85304d8d-6aa4-4127-b842-dd186917d972",
   "metadata": {},
   "outputs": [],
   "source": [
    "class WikiArtDataset(Dataset):\n",
    "    def __init__(self, features, labels, transform=None, class_to_idx=None):\n",
    "        self.features = features\n",
    "        self.labels = labels\n",
    "        self.transform = transform\n",
    "        self.class_to_idx = class_to_idx\n",
    "\n",
    "    def __len__(self):\n",
    "        return len(self.labels)\n",
    "\n",
    "    def __getitem__(self, idx):\n",
    "        image_data = self.features.iloc[idx]['image']\n",
    "        image_bytes = image_data['bytes']\n",
    "        image = Image.open(io.BytesIO(image_bytes))\n",
    "\n",
    "        label = self.labels.iloc[idx]\n",
    "\n",
    "        # Mapiranje oznaka (labels) koristeći class_to_idx\n",
    "        if self.class_to_idx is not None:\n",
    "            label = self.class_to_idx[label]\n",
    "\n",
    "        if self.transform:\n",
    "            image = self.transform(image)\n",
    "\n",
    "        return image, label"
   ]
  },
  {
   "cell_type": "code",
   "execution_count": 9,
   "id": "85ef11a1-2dc7-4d66-bba2-469112c4cf0d",
   "metadata": {},
   "outputs": [],
   "source": [
    "# Definišite transformacije\n",
    "transform = transforms.Compose([\n",
    "    transforms.Resize((224, 224)),\n",
    "    transforms.RandomHorizontalFlip(),\n",
    "    transforms.RandomRotation(10),\n",
    "    transforms.ColorJitter(brightness=0.2, contrast=0.2, saturation=0.2, hue=0.2),\n",
    "    transforms.ToTensor(),\n",
    "    transforms.Normalize(mean=[0.485, 0.456, 0.406], std=[0.229, 0.224, 0.225]),\n",
    "])\n"
   ]
  },
  {
   "cell_type": "code",
   "execution_count": 10,
   "id": "0f847be4-12c5-4734-a6c1-ed669f138576",
   "metadata": {},
   "outputs": [],
   "source": [
    "# Dobijanje broja klasa\n",
    "classes = y_train.unique()\n",
    "num_classes = len(classes)\n",
    "class_to_idx = {cls: idx for idx, cls in enumerate(classes)}"
   ]
  },
  {
   "cell_type": "code",
   "execution_count": 11,
   "id": "d18e9c25-b507-4120-acd8-07ca1f6ad565",
   "metadata": {},
   "outputs": [],
   "source": [
    "train_dataset = WikiArtDataset(X_train, y_train, transform=transform, class_to_idx=class_to_idx)\n",
    "valid_dataset = WikiArtDataset(X_valid, y_valid, transform=transform, class_to_idx=class_to_idx)\n",
    "test_dataset = WikiArtDataset(X_test, y_test, transform=transform, class_to_idx=class_to_idx)\n"
   ]
  },
  {
   "cell_type": "code",
   "execution_count": 12,
   "id": "a2cee75f-ca72-4361-ac04-928c5687e8c5",
   "metadata": {},
   "outputs": [],
   "source": [
    "# Funkcija za konverziju Dataset objekta u DataLoader\n",
    "def get_dataloaders(train_dataset, valid_dataset, test_dataset, batch_size=16):\n",
    "    train_loader = DataLoader(dataset=train_dataset, batch_size=batch_size, shuffle=True, num_workers=4)\n",
    "    valid_loader = DataLoader(dataset=valid_dataset, batch_size=batch_size, shuffle=False, num_workers=4)\n",
    "    test_loader = DataLoader(dataset=test_dataset, batch_size=batch_size, shuffle=False, num_workers=4)\n",
    "\n",
    "    return train_loader, valid_loader, test_loader\n"
   ]
  },
  {
   "cell_type": "code",
   "execution_count": 13,
   "id": "1e86d2d6-01df-45d7-b70c-1ab47c322629",
   "metadata": {},
   "outputs": [],
   "source": [
    "train_loader, valid_loader, test_loader = get_dataloaders(train_dataset, valid_dataset, test_dataset)\n"
   ]
  },
  {
   "cell_type": "code",
   "execution_count": 14,
   "id": "63ceb7f7-e1bd-4e1b-83f3-cfb5a1005593",
   "metadata": {},
   "outputs": [],
   "source": [
    "def create_vgg16_model(num_classes):\n",
    "    model = models.vgg16(pretrained=True)\n",
    "    model.classifier[6] = nn.Linear(in_features=4096, out_features=num_classes)\n",
    "    return model\n"
   ]
  },
  {
   "cell_type": "code",
   "execution_count": 15,
   "id": "17762c42-80dc-4eb4-b587-1ef732315699",
   "metadata": {},
   "outputs": [
    {
     "name": "stderr",
     "output_type": "stream",
     "text": [
      "/home/aleksandra/.local/lib/python3.8/site-packages/torchvision/models/_utils.py:208: UserWarning: The parameter 'pretrained' is deprecated since 0.13 and may be removed in the future, please use 'weights' instead.\n",
      "  warnings.warn(\n",
      "/home/aleksandra/.local/lib/python3.8/site-packages/torchvision/models/_utils.py:223: UserWarning: Arguments other than a weight enum or `None` for 'weights' are deprecated since 0.13 and may be removed in the future. The current behavior is equivalent to passing `weights=VGG16_Weights.IMAGENET1K_V1`. You can also use `weights=VGG16_Weights.DEFAULT` to get the most up-to-date weights.\n",
      "  warnings.warn(msg)\n"
     ]
    }
   ],
   "source": [
    "vgg16_model = create_vgg16_model(num_classes).to(device)\n"
   ]
  },
  {
   "cell_type": "code",
   "execution_count": 16,
   "id": "890682f8-d3c9-4120-95d9-a7c1c041f70e",
   "metadata": {},
   "outputs": [],
   "source": [
    "# Definišite model AlexNet\n",
    "def create_alexnet_model(num_classes):\n",
    "    model = models.alexnet(pretrained=True)\n",
    "    model.classifier[6] = nn.Linear(in_features=4096, out_features=num_classes)\n",
    "    return model\n"
   ]
  },
  {
   "cell_type": "code",
   "execution_count": 17,
   "id": "65b327e1-3ff2-4451-b3ca-edc9ca52086f",
   "metadata": {},
   "outputs": [],
   "source": [
    "from torch.optim.lr_scheduler import StepLR\n",
    "\n",
    "def train_model(model, train_loader, valid_loader, num_epochs=15, learning_rate=0.0001):\n",
    "    device = torch.device('cuda' if torch.cuda.is_available() else 'cpu')\n",
    "    model = model.to(device)\n",
    "\n",
    "    criterion = nn.CrossEntropyLoss()\n",
    "    optimizer = optim.Adam(model.parameters(), lr=learning_rate)\n",
    "    scheduler = StepLR(optimizer, step_size=5, gamma=0.1)  # Decays the learning rate by a factor of 0.1 every 5 epochs\n",
    "\n",
    "    best_accuracy = 0.0\n",
    "    train_losses = []\n",
    "    valid_accuracies = []\n",
    "\n",
    "    for epoch in range(num_epochs):\n",
    "        print(f\"Starting Epoch {epoch+1}/{num_epochs}\")\n",
    "        model.train()\n",
    "        running_loss = 0.0\n",
    "        for batch_idx, (images, labels) in enumerate(train_loader):\n",
    "            images, labels = images.to(device), labels.to(device)\n",
    "\n",
    "            optimizer.zero_grad()\n",
    "            outputs = model(images)\n",
    "            loss = criterion(outputs, labels)\n",
    "            loss.backward()\n",
    "            optimizer.step()\n",
    "\n",
    "            running_loss += loss.item() * images.size(0)\n",
    "\n",
    "        epoch_loss = running_loss / len(train_loader.dataset)\n",
    "        train_losses.append(epoch_loss)\n",
    "        print(f\"Epoch {epoch+1}/{num_epochs}, Loss: {epoch_loss:.4f}\")\n",
    "\n",
    "        # Evaluacija na validacionom skupu\n",
    "        model.eval()\n",
    "        valid_labels = []\n",
    "        valid_preds = []\n",
    "        with torch.no_grad():\n",
    "            for images, labels in valid_loader:\n",
    "                images, labels = images.to(device), labels.to(device)\n",
    "                outputs = model(images)\n",
    "                _, preds = torch.max(outputs, 1)\n",
    "                valid_labels.extend(labels.cpu().numpy())\n",
    "                valid_preds.extend(preds.cpu().numpy())\n",
    "\n",
    "        accuracy = accuracy_score(valid_labels, valid_preds)\n",
    "        valid_accuracies.append(accuracy)\n",
    "        print(f\"Validation Accuracy: {accuracy * 100:.2f}%\")\n",
    "\n",
    "        if accuracy > best_accuracy:\n",
    "            best_accuracy = accuracy\n",
    "            torch.save(model.state_dict(), 'best_model.pth')\n",
    "\n",
    "        scheduler.step()\n",
    "\n",
    "    return train_losses, valid_accuracies\n",
    "\n"
   ]
  },
  {
   "cell_type": "code",
   "execution_count": 18,
   "id": "dc1eced0-1306-4238-9b07-01c54b4d39dd",
   "metadata": {},
   "outputs": [],
   "source": [
    "def evaluate_model(model, test_loader):\n",
    "    model.eval()\n",
    "    test_labels = []\n",
    "    test_preds = []\n",
    "    \n",
    "    with torch.no_grad():\n",
    "        for images, labels in test_loader:\n",
    "            images = images.to(device)\n",
    "            labels = labels.to(device)\n",
    "            outputs = model(images)\n",
    "            _, preds = torch.max(outputs, 1)\n",
    "            test_labels.extend(labels.cpu().numpy())\n",
    "            test_preds.extend(preds.cpu().numpy())\n",
    "    \n",
    "    accuracy = accuracy_score(test_labels, test_preds)\n",
    "    print(f\"Test Accuracy: {accuracy * 100:.2f}%\")"
   ]
  },
  {
   "cell_type": "code",
   "execution_count": null,
   "id": "d0bd21bc-219c-43f9-8b2d-d642edf744cc",
   "metadata": {},
   "outputs": [],
   "source": []
  },
  {
   "cell_type": "code",
   "execution_count": 19,
   "id": "d71b21be-3304-4024-837a-3640e7822151",
   "metadata": {},
   "outputs": [],
   "source": [
    "# Debugging funkcija za provere pre treninga\n",
    "def debug_dataloader(loader):\n",
    "    for i, (images, labels) in enumerate(loader):\n",
    "        print(f\"Batch {i+1}:\")\n",
    "        print(f\" - Images shape: {images.shape}\")\n",
    "        print(f\" - Labels shape: {labels.shape}\")\n",
    "        print(f\" - Labels: {labels}\")\n",
    "        if i == 0:\n",
    "            break"
   ]
  },
  {
   "cell_type": "code",
   "execution_count": 20,
   "id": "64e4d6c3-b934-4b44-b8be-c2e7c65a639f",
   "metadata": {},
   "outputs": [],
   "source": [
    "def debug_model(model, loader):\n",
    "    for images, labels in loader:\n",
    "        images = images.to('cuda' if torch.cuda.is_available() else 'cpu')\n",
    "        print(\"Passing a single batch through the model for debugging...\")\n",
    "        outputs = model(images)\n",
    "        print(f\" - Output shape: {outputs.shape}\")\n",
    "        break\n"
   ]
  },
  {
   "cell_type": "code",
   "execution_count": 21,
   "id": "4ab855e2-c9e8-4c3c-8102-8e92538345f4",
   "metadata": {},
   "outputs": [],
   "source": [
    "def plot_results(train_losses, valid_accuracies):\n",
    "    plt.figure(figsize=(12, 6))\n",
    "    \n",
    "    plt.subplot(1, 2, 1)\n",
    "    plt.plot(range(1, len(train_losses) + 1), train_losses, label='Training Loss')\n",
    "    plt.xlabel('Epochs')\n",
    "    plt.ylabel('Loss')\n",
    "    plt.title('Training Loss')\n",
    "    plt.legend()\n",
    "    \n",
    "    plt.subplot(1, 2, 2)\n",
    "    plt.plot(range(1, len(valid_accuracies) + 1), [acc * 100 for acc in valid_accuracies], label='Validation Accuracy')\n",
    "    plt.xlabel('Epochs')\n",
    "    plt.ylabel('Accuracy (%)')\n",
    "    plt.title('Validation Accuracy')\n",
    "    plt.legend()\n",
    "    \n",
    "    plt.show()"
   ]
  },
  {
   "cell_type": "code",
   "execution_count": 24,
   "id": "ae9a4481-1ceb-41ef-a2d8-521b0a1eecad",
   "metadata": {},
   "outputs": [
    {
     "data": {
      "image/png": "[encoded data removed]",
      "text/plain": [
       "<Figure size 1200x600 with 2 Axes>"
      ]
     },
     "metadata": {},
     "output_type": "display_data"
    },
    {
     "name": "stdout",
     "output_type": "stream",
     "text": [
      "Test Accuracy: 50.00%\n"
     ]
    }
   ],
   "source": [
    "#train_losses, valid_accuracies = train_model(vgg16_model, train_loader, valid_loader, num_epochs=15)\n",
    "plot_results(train_losses, valid_accuracies)\n",
    "evaluate_model(vgg16_model, test_loader)"
   ]
  },
  {
   "cell_type": "code",
   "execution_count": null,
   "id": "08b53e97-078d-48c5-8b98-13520118ce7e",
   "metadata": {},
   "outputs": [],
   "source": [
    "print(\"Training VGGNet...\")\n",
    "vgg16_model = create_vgg16_model(num_classes)\n",
    "print(\"Model created successfully.\")"
   ]
  },
  {
   "cell_type": "code",
   "execution_count": null,
   "id": "71339be2-7e45-425d-8554-0bee054a4d0d",
   "metadata": {},
   "outputs": [],
   "source": [
    "import matplotlib.pyplot as plt\n",
    "\n",
    "train_losses, valid_accuracies = train_model(vgg16_model, train_loader, valid_loader, num_epochs=15, learning_rate=0.0001)\n",
    "evaluate_model(vgg16_model, test_loader)\n",
    "# Plotting the loss\n",
    "plt.figure(figsize=(12, 6))\n",
    "plt.subplot(1, 2, 1)\n",
    "plt.plot(range(1, len(train_losses) + 1), train_losses, label='Training Loss')\n",
    "plt.xlabel('Epochs')\n",
    "plt.ylabel('Loss')\n",
    "plt.title('Training Loss')\n",
    "plt.legend()\n",
    "\n",
    "# Plotting the accuracy\n",
    "plt.subplot(1, 2, 2)\n",
    "plt.plot(range(1, len(valid_accuracies) + 1), [acc * 100 for acc in valid_accuracies], label='Validation Accuracy')\n",
    "plt.xlabel('Epochs')\n",
    "plt.ylabel('Accuracy (%)')\n",
    "plt.title('Validation Accuracy')\n",
    "plt.legend()\n",
    "\n",
    "plt.show()\n"
   ]
  },
  {
   "cell_type": "code",
   "execution_count": null,
   "id": "5c3d4f09-bc32-4aa1-8fa7-e53518b169c5",
   "metadata": {},
   "outputs": [],
   "source": [
    "from sklearn.metrics import confusion_matrix\n",
    "import seaborn as sns\n",
    "\n",
    "def plot_confusion_matrix(model, test_loader):\n",
    "    device = torch.device('cuda' if torch.cuda.is_available() else 'cpu')\n",
    "    model = model.to(device)\n",
    "\n",
    "    model.eval()\n",
    "    test_labels = []\n",
    "    test_preds = []\n",
    "    with torch.no_grad():\n",
    "        for images, labels in test_loader:\n",
    "            images, labels = images.to(device), labels.to(device)\n",
    "            outputs = model(images)\n",
    "            _, preds = torch.max(outputs, 1)\n",
    "            test_labels.extend(labels.cpu().numpy())\n",
    "            test_preds.extend(preds.cpu().numpy())\n",
    "\n",
    "    cm = confusion_matrix(test_labels, test_preds)\n",
    "    plt.figure(figsize=(10, 8))\n",
    "    sns.heatmap(cm, annot=True, fmt='d', cmap='Blues', xticklabels=class_to_idx.keys(), yticklabels=class_to_idx.keys())\n",
    "    plt.xlabel('Predicted Label')\n",
    "    plt.ylabel('True Label')\n",
    "    plt.title('Confusion Matrix')\n",
    "    plt.show()\n",
    "\n",
    "# Plot confusion matrix after testing\n",
    "plot_confusion_matrix(vgg16_model, test_loader)\n"
   ]
  },
  {
   "cell_type": "code",
   "execution_count": null,
   "id": "202e80d1-0182-4801-9842-671e3d18e554",
   "metadata": {},
   "outputs": [],
   "source": [
    "# Debugging funkcija za provere pre treninga\n",
    "\"\"\"def debug_dataloader(loader):\n",
    "    for i, (images, labels) in enumerate(loader):\n",
    "        print(f\"Batch {i+1}:\")\n",
    "        print(f\" - Images shape: {images.shape}\")\n",
    "        print(f\" - Labels shape: {labels.shape}\")\n",
    "        print(f\" - Labels: {labels}\")\n",
    "        if i == 0:\n",
    "            break\n",
    "\n",
    "# Provera modela\n",
    "def debug_model(model, loader):\n",
    "    for images, labels in loader:\n",
    "        images = images.to('cuda' if torch.cuda.is_available() else 'cpu')\n",
    "        print(\"Passing a single batch through the model for debugging...\")\n",
    "        outputs = model(images)\n",
    "        print(f\" - Output shape: {outputs.shape}\")\n",
    "        break\n",
    "\n",
    "# Kreirajte i obučite VGGNet model sa dodanim proverenama\n",
    "try:\n",
    "    print(\"Training VGGNet...\")\n",
    "    vgg16_model = create_vgg16_model(num_classes)\n",
    "    print(\"Model created successfully.\")\n",
    "\n",
    "    # Provera podataka\n",
    "    debug_dataloader(train_loader)\n",
    "    \n",
    "    # Provera modela sa batch-om podataka\n",
    "    debug_model(vgg16_model, train_loader)\n",
    "    \n",
    "    # Pokretanje treninga\n",
    "    train_model(vgg16_model, train_loader, valid_loader)\n",
    "except Exception as e:\n",
    "    print(f\"Error during training: {e}\")\n",
    "\n",
    "# Evaluacija VGGNet modela sa proverenama\n",
    "try:\n",
    "    print(\"Evaluating VGGNet...\")\n",
    "    evaluate_model(vgg16_model, test_loader)\n",
    "except Exception as e:\n",
    "    print(f\"Error during evaluation: {e}\")\n",
    "\"\"\""
   ]
  },
  {
   "cell_type": "code",
   "execution_count": null,
   "id": "ec39eecd-eb60-4bb7-8a73-0952aec58dc0",
   "metadata": {},
   "outputs": [],
   "source": [
    "\"\"\"print(\"Training VGGNet...\")\n",
    "vgg16_model = create_vgg16_model(num_classes)\n",
    "train_model(vgg16_model, train_loader, valid_loader)\"\"\"\n"
   ]
  },
  {
   "cell_type": "code",
   "execution_count": null,
   "id": "bef7a021-a685-407b-8eae-11708bd5cec7",
   "metadata": {},
   "outputs": [],
   "source": []
  }
 ],
 "metadata": {
  "kernelspec": {
   "display_name": "Python 3 (ipykernel)",
   "language": "python",
   "name": "python3"
  },
  "language_info": {
   "codemirror_mode": {
    "name": "ipython",
    "version": 3
   },
   "file_extension": ".py",
   "mimetype": "text/x-python",
   "name": "python",
   "nbconvert_exporter": "python",
   "pygments_lexer": "ipython3",
   "version": "3.8.10"
  }
 },
 "nbformat": 4,
 "nbformat_minor": 5
}
