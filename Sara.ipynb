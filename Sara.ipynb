{
 "cells": [
  {
   "cell_type": "code",
   "execution_count": 1,
   "id": "7978d271-ea1e-4e45-b923-ab629718bc17",
   "metadata": {},
   "outputs": [],
   "source": [
    "from datasets import load_dataset\n",
    "import torch\n",
    "import torchvision.transforms as transforms\n",
    "import torchvision.models as models\n",
    "import torch.optim as optim\n",
    "import torch.nn as nn\n",
    "from torch.utils.data import DataLoader, Dataset\n",
    "from sklearn.metrics import accuracy_score\n",
    "from PIL import Image\n",
    "import io\n",
    "import base64\n",
    "\n"
   ]
  },
  {
   "cell_type": "code",
   "execution_count": 2,
   "id": "d9e7e2d1-8224-4207-a829-9ff7c3a05e8a",
   "metadata": {},
   "outputs": [
    {
     "data": {
      "application/vnd.jupyter.widget-view+json": {
       "model_id": "87912c2133724ca79ffab216b4a2f2f1",
       "version_major": 2,
       "version_minor": 0
      },
      "text/plain": [
       "Resolving data files:   0%|          | 0/72 [00:00<?, ?it/s]"
      ]
     },
     "metadata": {},
     "output_type": "display_data"
    },
    {
     "data": {
      "application/vnd.jupyter.widget-view+json": {
       "model_id": "15cbff6048274b43b5317631397a4f8d",
       "version_major": 2,
       "version_minor": 0
      },
      "text/plain": [
       "Loading dataset shards:   0%|          | 0/45 [00:00<?, ?it/s]"
      ]
     },
     "metadata": {},
     "output_type": "display_data"
    }
   ],
   "source": [
    "# Učitavanje WikiArt dataset-a\n",
    "dataset = load_dataset('huggan/wikiart')"
   ]
  },
  {
   "cell_type": "code",
   "execution_count": 3,
   "id": "347dca87-8d65-41b1-80a1-81c6e27b214b",
   "metadata": {},
   "outputs": [],
   "source": [
    "train_subset = dataset['train'].select(range(int(0.002 * len(dataset['train']))))\n",
    "#train_subset = dataset['train'][:1000]"
   ]
  },
  {
   "cell_type": "code",
   "execution_count": 4,
   "id": "a04fa583-e5ee-4df6-b6ca-c1518dffdb6d",
   "metadata": {},
   "outputs": [],
   "source": [
    "# Podela na train, validation, i test\n",
    "from sklearn.model_selection import train_test_split\n",
    "\n",
    "train_df, test_df = train_test_split(train_subset.to_pandas(), test_size=0.2, random_state=42)\n",
    "test_df, valid_df = train_test_split(test_df, test_size=0.5, random_state=42)\n"
   ]
  },
  {
   "cell_type": "code",
   "execution_count": 5,
   "id": "85304d8d-6aa4-4127-b842-dd186917d972",
   "metadata": {},
   "outputs": [],
   "source": [
    "class WikiArtDataset(Dataset):\n",
    "    def __init__(self, dataframe, transform=None, class_to_idx=None):\n",
    "        self.dataframe = dataframe\n",
    "        self.transform = transform\n",
    "        self.class_to_idx = class_to_idx\n",
    "\n",
    "    def __len__(self):\n",
    "        return len(self.dataframe)\n",
    "\n",
    "    def __getitem__(self, idx):\n",
    "        image_data = self.dataframe.iloc[idx]['image']\n",
    "        image_bytes = image_data['bytes']\n",
    "        image = Image.open(io.BytesIO(image_bytes))\n",
    "\n",
    "        label = self.dataframe.iloc[idx]['genre']\n",
    "\n",
    "        # Mapiranje oznaka (labels) koristeći class_to_idx\n",
    "        if self.class_to_idx is not None:\n",
    "            label = self.class_to_idx[label]\n",
    "\n",
    "        if self.transform:\n",
    "            image = self.transform(image)\n",
    "\n",
    "        return image, label\n"
   ]
  },
  {
   "cell_type": "code",
   "execution_count": 6,
   "id": "85ef11a1-2dc7-4d66-bba2-469112c4cf0d",
   "metadata": {},
   "outputs": [],
   "source": [
    "# Definišite transformacije\n",
    "transform = transforms.Compose([\n",
    "    transforms.Resize((224, 224)),\n",
    "    transforms.RandomHorizontalFlip(),\n",
    "    transforms.RandomRotation(10),\n",
    "    transforms.ColorJitter(brightness=0.2, contrast=0.2, saturation=0.2, hue=0.2),\n",
    "    transforms.ToTensor(),\n",
    "    transforms.Normalize(mean=[0.485, 0.456, 0.406], std=[0.229, 0.224, 0.225]),\n",
    "])\n"
   ]
  },
  {
   "cell_type": "code",
   "execution_count": 7,
   "id": "0f847be4-12c5-4734-a6c1-ed669f138576",
   "metadata": {},
   "outputs": [],
   "source": [
    "# Dobijanje broja klasa\n",
    "classes = train_df['genre'].unique()\n",
    "num_classes = len(classes)\n",
    "class_to_idx = {cls: idx for idx, cls in enumerate(classes)}\n"
   ]
  },
  {
   "cell_type": "code",
   "execution_count": 8,
   "id": "d18e9c25-b507-4120-acd8-07ca1f6ad565",
   "metadata": {},
   "outputs": [],
   "source": [
    "\n",
    "train_dataset = WikiArtDataset(train_df, transform=transform, class_to_idx=class_to_idx)\n",
    "valid_dataset = WikiArtDataset(valid_df, transform=transform, class_to_idx=class_to_idx)\n",
    "test_dataset = WikiArtDataset(test_df, transform=transform, class_to_idx=class_to_idx)\n"
   ]
  },
  {
   "cell_type": "code",
   "execution_count": 9,
   "id": "c5e7e21d-b308-4cbd-b3fa-20caa2ea63c4",
   "metadata": {},
   "outputs": [
    {
     "name": "stdout",
     "output_type": "stream",
     "text": [
      "Class to index mapping: {4: 0, 6: 1, 2: 2, 8: 3, 7: 4, 9: 5, 3: 6, 1: 7, 10: 8, 5: 9}\n"
     ]
    }
   ],
   "source": [
    "# Mapiranje klase do indeksa\n",
    "class_to_idx = {cls: idx for idx, cls in enumerate(classes)}\n",
    "print(f\"Class to index mapping: {class_to_idx}\")\n"
   ]
  },
  {
   "cell_type": "code",
   "execution_count": 10,
   "id": "63ceb7f7-e1bd-4e1b-83f3-cfb5a1005593",
   "metadata": {},
   "outputs": [],
   "source": [
    "def create_vgg16_model(num_classes):\n",
    "    model = models.vgg16(pretrained=True)\n",
    "    model.classifier[6] = nn.Linear(in_features=4096, out_features=num_classes)\n",
    "    return model\n"
   ]
  },
  {
   "cell_type": "code",
   "execution_count": 11,
   "id": "890682f8-d3c9-4120-95d9-a7c1c041f70e",
   "metadata": {},
   "outputs": [],
   "source": [
    "# Definišite model AlexNet\n",
    "def create_alexnet_model(num_classes):\n",
    "    model = models.alexnet(pretrained=True)\n",
    "    model.classifier[6] = nn.Linear(in_features=4096, out_features=num_classes)\n",
    "    return model\n"
   ]
  },
  {
   "cell_type": "code",
   "execution_count": 12,
   "id": "65b327e1-3ff2-4451-b3ca-edc9ca52086f",
   "metadata": {},
   "outputs": [],
   "source": [
    "from torch.optim.lr_scheduler import StepLR\n",
    "\n",
    "def train_model(model, train_loader, valid_loader, num_epochs=15, learning_rate=0.0001):\n",
    "    device = torch.device('cuda' if torch.cuda.is_available() else 'cpu')\n",
    "    model = model.to(device)\n",
    "\n",
    "    criterion = nn.CrossEntropyLoss()\n",
    "    optimizer = optim.Adam(model.parameters(), lr=learning_rate)\n",
    "    scheduler = StepLR(optimizer, step_size=5, gamma=0.1)  # Decays the learning rate by a factor of 0.1 every 5 epochs\n",
    "\n",
    "    best_accuracy = 0.0\n",
    "    train_losses = []\n",
    "    valid_accuracies = []\n",
    "\n",
    "    for epoch in range(num_epochs):\n",
    "        print(f\"Starting Epoch {epoch+1}/{num_epochs}\")\n",
    "        model.train()\n",
    "        running_loss = 0.0\n",
    "        for batch_idx, (images, labels) in enumerate(train_loader):\n",
    "            images, labels = images.to(device), labels.to(device)\n",
    "\n",
    "            optimizer.zero_grad()\n",
    "            outputs = model(images)\n",
    "            loss = criterion(outputs, labels)\n",
    "            loss.backward()\n",
    "            optimizer.step()\n",
    "\n",
    "            running_loss += loss.item() * images.size(0)\n",
    "\n",
    "        epoch_loss = running_loss / len(train_loader.dataset)\n",
    "        train_losses.append(epoch_loss)\n",
    "        print(f\"Epoch {epoch+1}/{num_epochs}, Loss: {epoch_loss:.4f}\")\n",
    "\n",
    "        # Evaluacija na validacionom skupu\n",
    "        model.eval()\n",
    "        valid_labels = []\n",
    "        valid_preds = []\n",
    "        with torch.no_grad():\n",
    "            for images, labels in valid_loader:\n",
    "                images, labels = images.to(device), labels.to(device)\n",
    "                outputs = model(images)\n",
    "                _, preds = torch.max(outputs, 1)\n",
    "                valid_labels.extend(labels.cpu().numpy())\n",
    "                valid_preds.extend(preds.cpu().numpy())\n",
    "\n",
    "        accuracy = accuracy_score(valid_labels, valid_preds)\n",
    "        valid_accuracies.append(accuracy)\n",
    "        print(f\"Validation Accuracy: {accuracy * 100:.2f}%\")\n",
    "\n",
    "        if accuracy > best_accuracy:\n",
    "            best_accuracy = accuracy\n",
    "            torch.save(model.state_dict(), 'best_model.pth')\n",
    "\n",
    "        scheduler.step()\n",
    "\n",
    "    return train_losses, valid_accuracies\n",
    "\n"
   ]
  },
  {
   "cell_type": "code",
   "execution_count": 13,
   "id": "dc1eced0-1306-4238-9b07-01c54b4d39dd",
   "metadata": {},
   "outputs": [],
   "source": [
    "def evaluate_model(model, test_loader):\n",
    "    device = torch.device('cuda' if torch.cuda.is_available() else 'cpu')\n",
    "    model = model.to(device)\n",
    "\n",
    "    model.eval()\n",
    "    test_labels = []\n",
    "    test_preds = []\n",
    "    with torch.no_grad():\n",
    "        for images, labels in test_loader:\n",
    "            images, labels = images.to(device), labels.to(device)\n",
    "            outputs = model(images)\n",
    "            _, preds = torch.max(outputs, 1)\n",
    "            test_labels.extend(labels.cpu().numpy())\n",
    "            test_preds.extend(preds.cpu().numpy())\n",
    "\n",
    "    accuracy = accuracy_score(test_labels, test_preds)\n",
    "    print(f\"Test Accuracy: {accuracy * 100:.2f}%\")\n"
   ]
  },
  {
   "cell_type": "code",
   "execution_count": 14,
   "id": "d0bd21bc-219c-43f9-8b2d-d642edf744cc",
   "metadata": {},
   "outputs": [],
   "source": [
    "# Funkcija za konverziju Dataset objekta u DataLoader\n",
    "def get_dataloaders(train_dataset, valid_dataset, test_dataset, batch_size=16):\n",
    "    train_loader = DataLoader(dataset=train_dataset, batch_size=batch_size, shuffle=True, num_workers=4)\n",
    "    valid_loader = DataLoader(dataset=valid_dataset, batch_size=batch_size, shuffle=False, num_workers=4)\n",
    "    test_loader = DataLoader(dataset=test_dataset, batch_size=batch_size, shuffle=False, num_workers=4)\n",
    "\n",
    "    return train_loader, valid_loader, test_loader\n"
   ]
  },
  {
   "cell_type": "code",
   "execution_count": 15,
   "id": "23314f3b-b2b9-455a-a2b7-55a3053cf33a",
   "metadata": {},
   "outputs": [],
   "source": [
    "# Kreirajte DataLoader-e\n",
    "train_loader, valid_loader, test_loader = get_dataloaders(train_dataset, valid_dataset, test_dataset)\n"
   ]
  },
  {
   "cell_type": "code",
   "execution_count": 16,
   "id": "d71b21be-3304-4024-837a-3640e7822151",
   "metadata": {},
   "outputs": [],
   "source": [
    "# Debugging funkcija za provere pre treninga\n",
    "def debug_dataloader(loader):\n",
    "    for i, (images, labels) in enumerate(loader):\n",
    "        print(f\"Batch {i+1}:\")\n",
    "        print(f\" - Images shape: {images.shape}\")\n",
    "        print(f\" - Labels shape: {labels.shape}\")\n",
    "        print(f\" - Labels: {labels}\")\n",
    "        if i == 0:\n",
    "            break"
   ]
  },
  {
   "cell_type": "code",
   "execution_count": 17,
   "id": "64e4d6c3-b934-4b44-b8be-c2e7c65a639f",
   "metadata": {},
   "outputs": [],
   "source": [
    "def debug_model(model, loader):\n",
    "    for images, labels in loader:\n",
    "        images = images.to('cuda' if torch.cuda.is_available() else 'cpu')\n",
    "        print(\"Passing a single batch through the model for debugging...\")\n",
    "        outputs = model(images)\n",
    "        print(f\" - Output shape: {outputs.shape}\")\n",
    "        break\n"
   ]
  },
  {
   "cell_type": "code",
   "execution_count": 18,
   "id": "08b53e97-078d-48c5-8b98-13520118ce7e",
   "metadata": {},
   "outputs": [
    {
     "name": "stdout",
     "output_type": "stream",
     "text": [
      "Training VGGNet...\n"
     ]
    },
    {
     "name": "stderr",
     "output_type": "stream",
     "text": [
      "/home/aleksandra/.local/lib/python3.8/site-packages/torchvision/models/_utils.py:208: UserWarning: The parameter 'pretrained' is deprecated since 0.13 and may be removed in the future, please use 'weights' instead.\n",
      "  warnings.warn(\n",
      "/home/aleksandra/.local/lib/python3.8/site-packages/torchvision/models/_utils.py:223: UserWarning: Arguments other than a weight enum or `None` for 'weights' are deprecated since 0.13 and may be removed in the future. The current behavior is equivalent to passing `weights=VGG16_Weights.IMAGENET1K_V1`. You can also use `weights=VGG16_Weights.DEFAULT` to get the most up-to-date weights.\n",
      "  warnings.warn(msg)\n"
     ]
    },
    {
     "name": "stdout",
     "output_type": "stream",
     "text": [
      "Model created successfully.\n"
     ]
    }
   ],
   "source": [
    "print(\"Training VGGNet...\")\n",
    "vgg16_model = create_vgg16_model(num_classes)\n",
    "print(\"Model created successfully.\")"
   ]
  },
  {
   "cell_type": "code",
   "execution_count": 19,
   "id": "71339be2-7e45-425d-8554-0bee054a4d0d",
   "metadata": {},
   "outputs": [
    {
     "name": "stdout",
     "output_type": "stream",
     "text": [
      "Starting Epoch 1/15\n",
      "Epoch 1/15, Loss: 2.2712\n",
      "Validation Accuracy: 41.18%\n",
      "Starting Epoch 2/15\n",
      "Epoch 2/15, Loss: 2.0548\n",
      "Validation Accuracy: 47.06%\n",
      "Starting Epoch 3/15\n",
      "Epoch 3/15, Loss: 1.8829\n",
      "Validation Accuracy: 47.06%\n",
      "Starting Epoch 4/15\n",
      "Epoch 4/15, Loss: 1.6668\n",
      "Validation Accuracy: 35.29%\n",
      "Starting Epoch 5/15\n",
      "Epoch 5/15, Loss: 1.5043\n",
      "Validation Accuracy: 23.53%\n",
      "Starting Epoch 6/15\n",
      "Epoch 6/15, Loss: 1.2479\n",
      "Validation Accuracy: 35.29%\n",
      "Starting Epoch 7/15\n",
      "Epoch 7/15, Loss: 1.1364\n",
      "Validation Accuracy: 52.94%\n",
      "Starting Epoch 8/15\n",
      "Epoch 8/15, Loss: 1.0568\n",
      "Validation Accuracy: 47.06%\n",
      "Starting Epoch 9/15\n",
      "Epoch 9/15, Loss: 0.9739\n",
      "Validation Accuracy: 47.06%\n",
      "Starting Epoch 10/15\n",
      "Epoch 10/15, Loss: 0.9087\n",
      "Validation Accuracy: 47.06%\n",
      "Starting Epoch 11/15\n",
      "Epoch 11/15, Loss: 0.8190\n",
      "Validation Accuracy: 47.06%\n",
      "Starting Epoch 12/15\n",
      "Epoch 12/15, Loss: 0.8659\n",
      "Validation Accuracy: 52.94%\n",
      "Starting Epoch 13/15\n",
      "Epoch 13/15, Loss: 0.9040\n",
      "Validation Accuracy: 41.18%\n",
      "Starting Epoch 14/15\n",
      "Epoch 14/15, Loss: 0.8166\n",
      "Validation Accuracy: 41.18%\n",
      "Starting Epoch 15/15\n",
      "Epoch 15/15, Loss: 0.8244\n",
      "Validation Accuracy: 41.18%\n"
     ]
    },
    {
     "data": {
      "image/png": "[encoded data removed]",
      "text/plain": [
       "<Figure size 1200x600 with 2 Axes>"
      ]
     },
     "metadata": {},
     "output_type": "display_data"
    }
   ],
   "source": [
    "import matplotlib.pyplot as plt\n",
    "\n",
    "train_losses, valid_accuracies = train_model(vgg16_model, train_loader, valid_loader)\n",
    "\n",
    "# Plotting the loss\n",
    "plt.figure(figsize=(12, 6))\n",
    "plt.subplot(1, 2, 1)\n",
    "plt.plot(range(1, len(train_losses) + 1), train_losses, label='Training Loss')\n",
    "plt.xlabel('Epochs')\n",
    "plt.ylabel('Loss')\n",
    "plt.title('Training Loss')\n",
    "plt.legend()\n",
    "\n",
    "# Plotting the accuracy\n",
    "plt.subplot(1, 2, 2)\n",
    "plt.plot(range(1, len(valid_accuracies) + 1), [acc * 100 for acc in valid_accuracies], label='Validation Accuracy')\n",
    "plt.xlabel('Epochs')\n",
    "plt.ylabel('Accuracy (%)')\n",
    "plt.title('Validation Accuracy')\n",
    "plt.legend()\n",
    "\n",
    "plt.show()\n"
   ]
  },
  {
   "cell_type": "code",
   "execution_count": 20,
   "id": "5c3d4f09-bc32-4aa1-8fa7-e53518b169c5",
   "metadata": {},
   "outputs": [
    {
     "data": {
      "image/png": "[encoded data removed]",
      "text/plain": [
       "<Figure size 1000x800 with 2 Axes>"
      ]
     },
     "metadata": {},
     "output_type": "display_data"
    }
   ],
   "source": [
    "from sklearn.metrics import confusion_matrix\n",
    "import seaborn as sns\n",
    "\n",
    "def plot_confusion_matrix(model, test_loader):\n",
    "    device = torch.device('cuda' if torch.cuda.is_available() else 'cpu')\n",
    "    model = model.to(device)\n",
    "\n",
    "    model.eval()\n",
    "    test_labels = []\n",
    "    test_preds = []\n",
    "    with torch.no_grad():\n",
    "        for images, labels in test_loader:\n",
    "            images, labels = images.to(device), labels.to(device)\n",
    "            outputs = model(images)\n",
    "            _, preds = torch.max(outputs, 1)\n",
    "            test_labels.extend(labels.cpu().numpy())\n",
    "            test_preds.extend(preds.cpu().numpy())\n",
    "\n",
    "    cm = confusion_matrix(test_labels, test_preds)\n",
    "    plt.figure(figsize=(10, 8))\n",
    "    sns.heatmap(cm, annot=True, fmt='d', cmap='Blues', xticklabels=class_to_idx.keys(), yticklabels=class_to_idx.keys())\n",
    "    plt.xlabel('Predicted Label')\n",
    "    plt.ylabel('True Label')\n",
    "    plt.title('Confusion Matrix')\n",
    "    plt.show()\n",
    "\n",
    "# Plot confusion matrix after testing\n",
    "plot_confusion_matrix(vgg16_model, test_loader)\n"
   ]
  },
  {
   "cell_type": "code",
   "execution_count": 21,
   "id": "202e80d1-0182-4801-9842-671e3d18e554",
   "metadata": {},
   "outputs": [
    {
     "data": {
      "text/plain": [
       "'def debug_dataloader(loader):\\n    for i, (images, labels) in enumerate(loader):\\n        print(f\"Batch {i+1}:\")\\n        print(f\" - Images shape: {images.shape}\")\\n        print(f\" - Labels shape: {labels.shape}\")\\n        print(f\" - Labels: {labels}\")\\n        if i == 0:\\n            break\\n\\n# Provera modela\\ndef debug_model(model, loader):\\n    for images, labels in loader:\\n        images = images.to(\\'cuda\\' if torch.cuda.is_available() else \\'cpu\\')\\n        print(\"Passing a single batch through the model for debugging...\")\\n        outputs = model(images)\\n        print(f\" - Output shape: {outputs.shape}\")\\n        break\\n\\n# Kreirajte i obučite VGGNet model sa dodanim proverenama\\ntry:\\n    print(\"Training VGGNet...\")\\n    vgg16_model = create_vgg16_model(num_classes)\\n    print(\"Model created successfully.\")\\n\\n    # Provera podataka\\n    debug_dataloader(train_loader)\\n    \\n    # Provera modela sa batch-om podataka\\n    debug_model(vgg16_model, train_loader)\\n    \\n    # Pokretanje treninga\\n    train_model(vgg16_model, train_loader, valid_loader)\\nexcept Exception as e:\\n    print(f\"Error during training: {e}\")\\n\\n# Evaluacija VGGNet modela sa proverenama\\ntry:\\n    print(\"Evaluating VGGNet...\")\\n    evaluate_model(vgg16_model, test_loader)\\nexcept Exception as e:\\n    print(f\"Error during evaluation: {e}\")\\n'"
      ]
     },
     "execution_count": 21,
     "metadata": {},
     "output_type": "execute_result"
    }
   ],
   "source": [
    "# Debugging funkcija za provere pre treninga\n",
    "\"\"\"def debug_dataloader(loader):\n",
    "    for i, (images, labels) in enumerate(loader):\n",
    "        print(f\"Batch {i+1}:\")\n",
    "        print(f\" - Images shape: {images.shape}\")\n",
    "        print(f\" - Labels shape: {labels.shape}\")\n",
    "        print(f\" - Labels: {labels}\")\n",
    "        if i == 0:\n",
    "            break\n",
    "\n",
    "# Provera modela\n",
    "def debug_model(model, loader):\n",
    "    for images, labels in loader:\n",
    "        images = images.to('cuda' if torch.cuda.is_available() else 'cpu')\n",
    "        print(\"Passing a single batch through the model for debugging...\")\n",
    "        outputs = model(images)\n",
    "        print(f\" - Output shape: {outputs.shape}\")\n",
    "        break\n",
    "\n",
    "# Kreirajte i obučite VGGNet model sa dodanim proverenama\n",
    "try:\n",
    "    print(\"Training VGGNet...\")\n",
    "    vgg16_model = create_vgg16_model(num_classes)\n",
    "    print(\"Model created successfully.\")\n",
    "\n",
    "    # Provera podataka\n",
    "    debug_dataloader(train_loader)\n",
    "    \n",
    "    # Provera modela sa batch-om podataka\n",
    "    debug_model(vgg16_model, train_loader)\n",
    "    \n",
    "    # Pokretanje treninga\n",
    "    train_model(vgg16_model, train_loader, valid_loader)\n",
    "except Exception as e:\n",
    "    print(f\"Error during training: {e}\")\n",
    "\n",
    "# Evaluacija VGGNet modela sa proverenama\n",
    "try:\n",
    "    print(\"Evaluating VGGNet...\")\n",
    "    evaluate_model(vgg16_model, test_loader)\n",
    "except Exception as e:\n",
    "    print(f\"Error during evaluation: {e}\")\n",
    "\"\"\""
   ]
  },
  {
   "cell_type": "code",
   "execution_count": 22,
   "id": "ec39eecd-eb60-4bb7-8a73-0952aec58dc0",
   "metadata": {},
   "outputs": [
    {
     "data": {
      "text/plain": [
       "'print(\"Training VGGNet...\")\\nvgg16_model = create_vgg16_model(num_classes)\\ntrain_model(vgg16_model, train_loader, valid_loader)'"
      ]
     },
     "execution_count": 22,
     "metadata": {},
     "output_type": "execute_result"
    }
   ],
   "source": [
    "\"\"\"print(\"Training VGGNet...\")\n",
    "vgg16_model = create_vgg16_model(num_classes)\n",
    "train_model(vgg16_model, train_loader, valid_loader)\"\"\"\n"
   ]
  },
  {
   "cell_type": "code",
   "execution_count": null,
   "id": "bef7a021-a685-407b-8eae-11708bd5cec7",
   "metadata": {},
   "outputs": [],
   "source": []
  }
 ],
 "metadata": {
  "kernelspec": {
   "display_name": "Python 3 (ipykernel)",
   "language": "python",
   "name": "python3"
  },
  "language_info": {
   "codemirror_mode": {
    "name": "ipython",
    "version": 3
   },
   "file_extension": ".py",
   "mimetype": "text/x-python",
   "name": "python",
   "nbconvert_exporter": "python",
   "pygments_lexer": "ipython3",
   "version": "3.8.10"
  }
 },
 "nbformat": 4,
 "nbformat_minor": 5
}
